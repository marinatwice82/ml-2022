{
 "cells": [
  {
   "cell_type": "code",
   "execution_count": 1,
   "id": "c715677b",
   "metadata": {},
   "outputs": [
    {
     "name": "stdout",
     "output_type": "stream",
     "text": [
      "Основная информация о данных\n"
     ]
    },
    {
     "data": {
      "text/html": [
       "<div>\n",
       "<style scoped>\n",
       "    .dataframe tbody tr th:only-of-type {\n",
       "        vertical-align: middle;\n",
       "    }\n",
       "\n",
       "    .dataframe tbody tr th {\n",
       "        vertical-align: top;\n",
       "    }\n",
       "\n",
       "    .dataframe thead th {\n",
       "        text-align: right;\n",
       "    }\n",
       "</style>\n",
       "<table border=\"1\" class=\"dataframe\">\n",
       "  <thead>\n",
       "    <tr style=\"text-align: right;\">\n",
       "      <th></th>\n",
       "      <th>Survived</th>\n",
       "      <th>Pclass</th>\n",
       "      <th>Name</th>\n",
       "      <th>Sex</th>\n",
       "      <th>Age</th>\n",
       "      <th>SibSp</th>\n",
       "      <th>Parch</th>\n",
       "      <th>Ticket</th>\n",
       "      <th>Fare</th>\n",
       "      <th>Cabin</th>\n",
       "      <th>Embarked</th>\n",
       "    </tr>\n",
       "    <tr>\n",
       "      <th>PassengerId</th>\n",
       "      <th></th>\n",
       "      <th></th>\n",
       "      <th></th>\n",
       "      <th></th>\n",
       "      <th></th>\n",
       "      <th></th>\n",
       "      <th></th>\n",
       "      <th></th>\n",
       "      <th></th>\n",
       "      <th></th>\n",
       "      <th></th>\n",
       "    </tr>\n",
       "  </thead>\n",
       "  <tbody>\n",
       "    <tr>\n",
       "      <th>0</th>\n",
       "      <td>1</td>\n",
       "      <td>1</td>\n",
       "      <td>Oconnor, Frankie</td>\n",
       "      <td>male</td>\n",
       "      <td>NaN</td>\n",
       "      <td>2</td>\n",
       "      <td>0</td>\n",
       "      <td>209245</td>\n",
       "      <td>27.14</td>\n",
       "      <td>C12239</td>\n",
       "      <td>S</td>\n",
       "    </tr>\n",
       "    <tr>\n",
       "      <th>1</th>\n",
       "      <td>0</td>\n",
       "      <td>3</td>\n",
       "      <td>Bryan, Drew</td>\n",
       "      <td>male</td>\n",
       "      <td>NaN</td>\n",
       "      <td>0</td>\n",
       "      <td>0</td>\n",
       "      <td>27323</td>\n",
       "      <td>13.35</td>\n",
       "      <td>NaN</td>\n",
       "      <td>S</td>\n",
       "    </tr>\n",
       "    <tr>\n",
       "      <th>2</th>\n",
       "      <td>0</td>\n",
       "      <td>3</td>\n",
       "      <td>Owens, Kenneth</td>\n",
       "      <td>male</td>\n",
       "      <td>0.33</td>\n",
       "      <td>1</td>\n",
       "      <td>2</td>\n",
       "      <td>CA 457703</td>\n",
       "      <td>71.29</td>\n",
       "      <td>NaN</td>\n",
       "      <td>S</td>\n",
       "    </tr>\n",
       "    <tr>\n",
       "      <th>3</th>\n",
       "      <td>0</td>\n",
       "      <td>3</td>\n",
       "      <td>Kramer, James</td>\n",
       "      <td>male</td>\n",
       "      <td>19.00</td>\n",
       "      <td>0</td>\n",
       "      <td>0</td>\n",
       "      <td>A. 10866</td>\n",
       "      <td>13.04</td>\n",
       "      <td>NaN</td>\n",
       "      <td>S</td>\n",
       "    </tr>\n",
       "    <tr>\n",
       "      <th>4</th>\n",
       "      <td>1</td>\n",
       "      <td>3</td>\n",
       "      <td>Bond, Michael</td>\n",
       "      <td>male</td>\n",
       "      <td>25.00</td>\n",
       "      <td>0</td>\n",
       "      <td>0</td>\n",
       "      <td>427635</td>\n",
       "      <td>7.76</td>\n",
       "      <td>NaN</td>\n",
       "      <td>S</td>\n",
       "    </tr>\n",
       "  </tbody>\n",
       "</table>\n",
       "</div>"
      ],
      "text/plain": [
       "             Survived  Pclass              Name   Sex    Age  SibSp  Parch  \\\n",
       "PassengerId                                                                  \n",
       "0                   1       1  Oconnor, Frankie  male    NaN      2      0   \n",
       "1                   0       3       Bryan, Drew  male    NaN      0      0   \n",
       "2                   0       3    Owens, Kenneth  male   0.33      1      2   \n",
       "3                   0       3     Kramer, James  male  19.00      0      0   \n",
       "4                   1       3     Bond, Michael  male  25.00      0      0   \n",
       "\n",
       "                Ticket   Fare   Cabin Embarked  \n",
       "PassengerId                                     \n",
       "0               209245  27.14  C12239        S  \n",
       "1                27323  13.35     NaN        S  \n",
       "2            CA 457703  71.29     NaN        S  \n",
       "3             A. 10866  13.04     NaN        S  \n",
       "4               427635   7.76     NaN        S  "
      ]
     },
     "execution_count": 1,
     "metadata": {},
     "output_type": "execute_result"
    }
   ],
   "source": [
    "#import pandas\n",
    "#excel_data_df = pandas.read_excel('train.xlsx', sheet_name='Train')\n",
    "#print(excel_data_df)\n",
    "#print('Excel Sheet to CSV:n', excel_data_df.to_csv(index=False))\n",
    "#print(excel_data_df.columns.ravel())\n",
    "# Импортируем Pandas\n",
    "\n",
    "    # Подключаем библиотеку Pandas\n",
    "import pandas as pd\n",
    "import pathlib \n",
    "from pathlib import Path\n",
    "\n",
    "import seaborn as sns\n",
    "import matplotlib\n",
    "import matplotlib.pyplot as plt\n",
    "%matplotlib inline\n",
    "\n",
    "\n",
    "sns.set_style('darkgrid')\n",
    "matplotlib.rcParams['font.size'] = 14\n",
    "matplotlib.rcParams['figure.figsize'] = (20, 5)\n",
    "matplotlib.rcParams['figure.facecolor'] = '#00000000'\n",
    "\n",
    "#Получаем строку, содержащую путь к рабочей директории:\n",
    "work_path = pathlib.Path.cwd()\n",
    " \n",
    "# сохраним путь к csv файлу в переменной data_path \n",
    "train_path = Path(work_path, 'train.csv')\n",
    "sample_path = Path(work_path,'sample_submission.csv')\n",
    "    \n",
    "# Загружаем данные из csv файла в переменную data\n",
    "data_train = pd.read_csv(train_path,index_col='PassengerId')\n",
    "data_sample = pd.read_csv(sample_path)\n",
    " \n",
    "# Выведем первые 10 строк из прочитанного файла на экран\n",
    "#data_sample.head(100)\n",
    "#data_train.head(100)\n",
    "#data_train[data_train.Cabin != data_train.Cabin.notnull()]\n",
    "print('Основная информация о данных')\n",
    "data_train.head()\n",
    "#data_train.isna()\n",
    "#data_train.describe()\n",
    "#PassengerId"
   ]
  },
  {
   "cell_type": "code",
   "execution_count": 2,
   "id": "be1a713f",
   "metadata": {
    "scrolled": true
   },
   "outputs": [
    {
     "name": "stdout",
     "output_type": "stream",
     "text": [
      "<class 'pandas.core.frame.DataFrame'>\n",
      "Int64Index: 100000 entries, 0 to 99999\n",
      "Data columns (total 11 columns):\n",
      " #   Column    Non-Null Count   Dtype  \n",
      "---  ------    --------------   -----  \n",
      " 0   Survived  100000 non-null  int64  \n",
      " 1   Pclass    100000 non-null  int64  \n",
      " 2   Name      100000 non-null  object \n",
      " 3   Sex       100000 non-null  object \n",
      " 4   Age       96708 non-null   float64\n",
      " 5   SibSp     100000 non-null  int64  \n",
      " 6   Parch     100000 non-null  int64  \n",
      " 7   Ticket    95377 non-null   object \n",
      " 8   Fare      99866 non-null   float64\n",
      " 9   Cabin     32134 non-null   object \n",
      " 10  Embarked  99750 non-null   object \n",
      "dtypes: float64(2), int64(4), object(5)\n",
      "memory usage: 9.2+ MB\n"
     ]
    }
   ],
   "source": [
    "data_train.info()"
   ]
  },
  {
   "cell_type": "code",
   "execution_count": 3,
   "id": "1308dd1e",
   "metadata": {},
   "outputs": [
    {
     "data": {
      "text/plain": [
       "0"
      ]
     },
     "execution_count": 3,
     "metadata": {},
     "output_type": "execute_result"
    }
   ],
   "source": [
    "#Проверяем данные на наличие пустых ячеек в колонках.\n",
    "data_train['Sex'].isnull().sum()"
   ]
  },
  {
   "cell_type": "code",
   "execution_count": 4,
   "id": "5c451273",
   "metadata": {},
   "outputs": [
    {
     "data": {
      "text/plain": [
       "3292"
      ]
     },
     "execution_count": 4,
     "metadata": {},
     "output_type": "execute_result"
    }
   ],
   "source": [
    "data_train['Age'].isnull().sum()"
   ]
  },
  {
   "cell_type": "code",
   "execution_count": 5,
   "id": "11b5f862",
   "metadata": {},
   "outputs": [
    {
     "data": {
      "text/plain": [
       "0"
      ]
     },
     "execution_count": 5,
     "metadata": {},
     "output_type": "execute_result"
    }
   ],
   "source": [
    "data_train['Pclass'].isnull().sum()"
   ]
  },
  {
   "cell_type": "code",
   "execution_count": 6,
   "id": "c0e9b100",
   "metadata": {
    "scrolled": false
   },
   "outputs": [
    {
     "data": {
      "text/plain": [
       "134"
      ]
     },
     "execution_count": 6,
     "metadata": {},
     "output_type": "execute_result"
    }
   ],
   "source": [
    "data_train['Fare'].isnull().sum()"
   ]
  },
  {
   "cell_type": "code",
   "execution_count": 7,
   "id": "2fdabc7c",
   "metadata": {},
   "outputs": [
    {
     "data": {
      "text/html": [
       "<div>\n",
       "<style scoped>\n",
       "    .dataframe tbody tr th:only-of-type {\n",
       "        vertical-align: middle;\n",
       "    }\n",
       "\n",
       "    .dataframe tbody tr th {\n",
       "        vertical-align: top;\n",
       "    }\n",
       "\n",
       "    .dataframe thead th {\n",
       "        text-align: right;\n",
       "    }\n",
       "</style>\n",
       "<table border=\"1\" class=\"dataframe\">\n",
       "  <thead>\n",
       "    <tr style=\"text-align: right;\">\n",
       "      <th></th>\n",
       "      <th>Survived</th>\n",
       "      <th>Pclass</th>\n",
       "      <th>Name</th>\n",
       "      <th>Sex</th>\n",
       "      <th>Age</th>\n",
       "      <th>SibSp</th>\n",
       "      <th>Parch</th>\n",
       "      <th>Embarked</th>\n",
       "    </tr>\n",
       "    <tr>\n",
       "      <th>PassengerId</th>\n",
       "      <th></th>\n",
       "      <th></th>\n",
       "      <th></th>\n",
       "      <th></th>\n",
       "      <th></th>\n",
       "      <th></th>\n",
       "      <th></th>\n",
       "      <th></th>\n",
       "    </tr>\n",
       "  </thead>\n",
       "  <tbody>\n",
       "    <tr>\n",
       "      <th>2</th>\n",
       "      <td>0</td>\n",
       "      <td>3</td>\n",
       "      <td>Owens, Kenneth</td>\n",
       "      <td>male</td>\n",
       "      <td>0.33</td>\n",
       "      <td>1</td>\n",
       "      <td>2</td>\n",
       "      <td>S</td>\n",
       "    </tr>\n",
       "    <tr>\n",
       "      <th>3</th>\n",
       "      <td>0</td>\n",
       "      <td>3</td>\n",
       "      <td>Kramer, James</td>\n",
       "      <td>male</td>\n",
       "      <td>19.00</td>\n",
       "      <td>0</td>\n",
       "      <td>0</td>\n",
       "      <td>S</td>\n",
       "    </tr>\n",
       "    <tr>\n",
       "      <th>4</th>\n",
       "      <td>1</td>\n",
       "      <td>3</td>\n",
       "      <td>Bond, Michael</td>\n",
       "      <td>male</td>\n",
       "      <td>25.00</td>\n",
       "      <td>0</td>\n",
       "      <td>0</td>\n",
       "      <td>S</td>\n",
       "    </tr>\n",
       "    <tr>\n",
       "      <th>5</th>\n",
       "      <td>0</td>\n",
       "      <td>2</td>\n",
       "      <td>Sassano, Jonathan</td>\n",
       "      <td>male</td>\n",
       "      <td>35.00</td>\n",
       "      <td>0</td>\n",
       "      <td>0</td>\n",
       "      <td>S</td>\n",
       "    </tr>\n",
       "    <tr>\n",
       "      <th>6</th>\n",
       "      <td>0</td>\n",
       "      <td>3</td>\n",
       "      <td>Conway, Jose</td>\n",
       "      <td>male</td>\n",
       "      <td>7.00</td>\n",
       "      <td>0</td>\n",
       "      <td>0</td>\n",
       "      <td>S</td>\n",
       "    </tr>\n",
       "    <tr>\n",
       "      <th>...</th>\n",
       "      <td>...</td>\n",
       "      <td>...</td>\n",
       "      <td>...</td>\n",
       "      <td>...</td>\n",
       "      <td>...</td>\n",
       "      <td>...</td>\n",
       "      <td>...</td>\n",
       "      <td>...</td>\n",
       "    </tr>\n",
       "    <tr>\n",
       "      <th>99995</th>\n",
       "      <td>1</td>\n",
       "      <td>2</td>\n",
       "      <td>Bell, Adele</td>\n",
       "      <td>female</td>\n",
       "      <td>62.00</td>\n",
       "      <td>0</td>\n",
       "      <td>0</td>\n",
       "      <td>C</td>\n",
       "    </tr>\n",
       "    <tr>\n",
       "      <th>99996</th>\n",
       "      <td>0</td>\n",
       "      <td>2</td>\n",
       "      <td>Brown, Herman</td>\n",
       "      <td>male</td>\n",
       "      <td>66.00</td>\n",
       "      <td>0</td>\n",
       "      <td>0</td>\n",
       "      <td>S</td>\n",
       "    </tr>\n",
       "    <tr>\n",
       "      <th>99997</th>\n",
       "      <td>0</td>\n",
       "      <td>3</td>\n",
       "      <td>Childress, Charles</td>\n",
       "      <td>male</td>\n",
       "      <td>37.00</td>\n",
       "      <td>0</td>\n",
       "      <td>0</td>\n",
       "      <td>S</td>\n",
       "    </tr>\n",
       "    <tr>\n",
       "      <th>99998</th>\n",
       "      <td>0</td>\n",
       "      <td>3</td>\n",
       "      <td>Caughlin, Thomas</td>\n",
       "      <td>male</td>\n",
       "      <td>51.00</td>\n",
       "      <td>0</td>\n",
       "      <td>1</td>\n",
       "      <td>S</td>\n",
       "    </tr>\n",
       "    <tr>\n",
       "      <th>99999</th>\n",
       "      <td>0</td>\n",
       "      <td>3</td>\n",
       "      <td>Enciso, Tyler</td>\n",
       "      <td>male</td>\n",
       "      <td>55.00</td>\n",
       "      <td>0</td>\n",
       "      <td>0</td>\n",
       "      <td>S</td>\n",
       "    </tr>\n",
       "  </tbody>\n",
       "</table>\n",
       "<p>96579 rows × 8 columns</p>\n",
       "</div>"
      ],
      "text/plain": [
       "             Survived  Pclass                Name     Sex    Age  SibSp  \\\n",
       "PassengerId                                                               \n",
       "2                   0       3      Owens, Kenneth    male   0.33      1   \n",
       "3                   0       3       Kramer, James    male  19.00      0   \n",
       "4                   1       3       Bond, Michael    male  25.00      0   \n",
       "5                   0       2   Sassano, Jonathan    male  35.00      0   \n",
       "6                   0       3        Conway, Jose    male   7.00      0   \n",
       "...               ...     ...                 ...     ...    ...    ...   \n",
       "99995               1       2         Bell, Adele  female  62.00      0   \n",
       "99996               0       2       Brown, Herman    male  66.00      0   \n",
       "99997               0       3  Childress, Charles    male  37.00      0   \n",
       "99998               0       3    Caughlin, Thomas    male  51.00      0   \n",
       "99999               0       3       Enciso, Tyler    male  55.00      0   \n",
       "\n",
       "             Parch Embarked  \n",
       "PassengerId                  \n",
       "2                2        S  \n",
       "3                0        S  \n",
       "4                0        S  \n",
       "5                0        S  \n",
       "6                0        S  \n",
       "...            ...      ...  \n",
       "99995            0        C  \n",
       "99996            0        S  \n",
       "99997            0        S  \n",
       "99998            1        S  \n",
       "99999            0        S  \n",
       "\n",
       "[96579 rows x 8 columns]"
      ]
     },
     "execution_count": 7,
     "metadata": {},
     "output_type": "execute_result"
    }
   ],
   "source": [
    "#Удалим нулевые значения и создадим таблицу с не используемыми столбцами в дальнейших вычислениях.\n",
    "#Давайте посмотрим, как теперь выглядит наш набор данных.\n",
    "df_train = data_train.dropna(subset= ['Fare', 'Age'])\n",
    "dt = df_train.drop(columns=['Ticket', 'Cabin', 'Fare'])\n",
    "dt"
   ]
  },
  {
   "cell_type": "code",
   "execution_count": 8,
   "id": "a2f82554",
   "metadata": {},
   "outputs": [
    {
     "data": {
      "text/html": [
       "<div>\n",
       "<style scoped>\n",
       "    .dataframe tbody tr th:only-of-type {\n",
       "        vertical-align: middle;\n",
       "    }\n",
       "\n",
       "    .dataframe tbody tr th {\n",
       "        vertical-align: top;\n",
       "    }\n",
       "\n",
       "    .dataframe thead th {\n",
       "        text-align: right;\n",
       "    }\n",
       "</style>\n",
       "<table border=\"1\" class=\"dataframe\">\n",
       "  <thead>\n",
       "    <tr style=\"text-align: right;\">\n",
       "      <th></th>\n",
       "      <th>Survived</th>\n",
       "      <th>Pclass</th>\n",
       "      <th>Age</th>\n",
       "      <th>SibSp</th>\n",
       "      <th>Parch</th>\n",
       "    </tr>\n",
       "  </thead>\n",
       "  <tbody>\n",
       "    <tr>\n",
       "      <th>count</th>\n",
       "      <td>96579.000000</td>\n",
       "      <td>96579.000000</td>\n",
       "      <td>96579.000000</td>\n",
       "      <td>96579.000000</td>\n",
       "      <td>96579.000000</td>\n",
       "    </tr>\n",
       "    <tr>\n",
       "      <th>mean</th>\n",
       "      <td>0.428250</td>\n",
       "      <td>2.106203</td>\n",
       "      <td>38.355244</td>\n",
       "      <td>0.398337</td>\n",
       "      <td>0.455244</td>\n",
       "    </tr>\n",
       "    <tr>\n",
       "      <th>std</th>\n",
       "      <td>0.494828</td>\n",
       "      <td>0.837866</td>\n",
       "      <td>18.313897</td>\n",
       "      <td>0.864081</td>\n",
       "      <td>0.951893</td>\n",
       "    </tr>\n",
       "    <tr>\n",
       "      <th>min</th>\n",
       "      <td>0.000000</td>\n",
       "      <td>1.000000</td>\n",
       "      <td>0.080000</td>\n",
       "      <td>0.000000</td>\n",
       "      <td>0.000000</td>\n",
       "    </tr>\n",
       "    <tr>\n",
       "      <th>25%</th>\n",
       "      <td>0.000000</td>\n",
       "      <td>1.000000</td>\n",
       "      <td>25.000000</td>\n",
       "      <td>0.000000</td>\n",
       "      <td>0.000000</td>\n",
       "    </tr>\n",
       "    <tr>\n",
       "      <th>50%</th>\n",
       "      <td>0.000000</td>\n",
       "      <td>2.000000</td>\n",
       "      <td>39.000000</td>\n",
       "      <td>0.000000</td>\n",
       "      <td>0.000000</td>\n",
       "    </tr>\n",
       "    <tr>\n",
       "      <th>75%</th>\n",
       "      <td>1.000000</td>\n",
       "      <td>3.000000</td>\n",
       "      <td>53.000000</td>\n",
       "      <td>1.000000</td>\n",
       "      <td>1.000000</td>\n",
       "    </tr>\n",
       "    <tr>\n",
       "      <th>max</th>\n",
       "      <td>1.000000</td>\n",
       "      <td>3.000000</td>\n",
       "      <td>87.000000</td>\n",
       "      <td>8.000000</td>\n",
       "      <td>9.000000</td>\n",
       "    </tr>\n",
       "  </tbody>\n",
       "</table>\n",
       "</div>"
      ],
      "text/plain": [
       "           Survived        Pclass           Age         SibSp         Parch\n",
       "count  96579.000000  96579.000000  96579.000000  96579.000000  96579.000000\n",
       "mean       0.428250      2.106203     38.355244      0.398337      0.455244\n",
       "std        0.494828      0.837866     18.313897      0.864081      0.951893\n",
       "min        0.000000      1.000000      0.080000      0.000000      0.000000\n",
       "25%        0.000000      1.000000     25.000000      0.000000      0.000000\n",
       "50%        0.000000      2.000000     39.000000      0.000000      0.000000\n",
       "75%        1.000000      3.000000     53.000000      1.000000      1.000000\n",
       "max        1.000000      3.000000     87.000000      8.000000      9.000000"
      ]
     },
     "execution_count": 8,
     "metadata": {},
     "output_type": "execute_result"
    }
   ],
   "source": [
    "dt.describe()"
   ]
  },
  {
   "cell_type": "code",
   "execution_count": 9,
   "id": "10fbb607",
   "metadata": {},
   "outputs": [
    {
     "name": "stdout",
     "output_type": "stream",
     "text": [
      "Количество мужчин и женщин ехало на корабле\n",
      "male      54134\n",
      "female    42445\n",
      "Name: Sex, dtype: int64\n"
     ]
    },
    {
     "data": {
      "text/plain": [
       "<AxesSubplot:xlabel='Sex', ylabel='Counts for Sex'>"
      ]
     },
     "execution_count": 9,
     "metadata": {},
     "output_type": "execute_result"
    },
    {
     "data": {
      "image/png": "[encoded data removed]",
      "text/plain": [
       "<Figure size 1440x360 with 1 Axes>"
      ]
     },
     "metadata": {
      "needs_background": "light"
     },
     "output_type": "display_data"
    }
   ],
   "source": [
    "#Количество мужчин и женщин ехало на корабле?\n",
    "print('Количество мужчин и женщин ехало на корабле')\n",
    "print(dt.Sex.value_counts())\n",
    "\n",
    "#Построим гистограмму соотношения пассажиров по полу.\n",
    "dt_value_counts = pd.DataFrame(dt['Sex'].value_counts())\n",
    "dt_value_counts = dt_value_counts.reset_index()\n",
    "dt_value_counts.columns = ['Sex', 'Counts for Sex']\n",
    "sns.barplot(x='Sex', y='Counts for Sex', data = dt_value_counts)"
   ]
  },
  {
   "cell_type": "code",
   "execution_count": 10,
   "id": "27d7a3df",
   "metadata": {},
   "outputs": [
    {
     "name": "stdout",
     "output_type": "stream",
     "text": [
      "Из гистограммы видно, что большинство пассажиров на корабле были мужчины.\n"
     ]
    }
   ],
   "source": [
    "print('Из гистограммы видно, что большинство пассажиров на корабле были мужчины.')"
   ]
  },
  {
   "cell_type": "code",
   "execution_count": 11,
   "id": "ec87efb1",
   "metadata": {},
   "outputs": [
    {
     "name": "stdout",
     "output_type": "stream",
     "text": [
      "Доля выживших пассажиров\n",
      "          Pclass   Name    Sex    Age  SibSp  Parch  Embarked\n",
      "Survived                                                     \n",
      "0          55219  55219  55219  55219  55219  55219     55093\n",
      "1          41360  41360  41360  41360  41360  41360     41239\n",
      "42.83 %\n"
     ]
    },
    {
     "data": {
      "text/plain": [
       "<AxesSubplot:xlabel='Survived', ylabel='Counts for Survived'>"
      ]
     },
     "execution_count": 11,
     "metadata": {},
     "output_type": "execute_result"
    },
    {
     "data": {
      "image/png": "[encoded data removed]",
      "text/plain": [
       "<Figure size 1440x360 with 1 Axes>"
      ]
     },
     "metadata": {
      "needs_background": "light"
     },
     "output_type": "display_data"
    }
   ],
   "source": [
    "#Определим какой части пассажиров удалось выжить и посчитаем долю выживших пассажиров. \n",
    "print('Доля выживших пассажиров')\n",
    "mask = dt['Survived'] == 1\n",
    "newdata=dt[mask]\n",
    "\n",
    "print(dt.groupby('Survived').count())\n",
    "                                        \n",
    "onePercentTotal=dt.Survived.count()/100\n",
    "survived=dt.Survived.sum()\n",
    "\n",
    "#Ответ представлен в процентах округленный до двух знаков после запятой.\n",
    "print(round(survived/onePercentTotal,2),'%')\n",
    "\n",
    "\n",
    "dt_value_counts = pd.DataFrame(dt['Survived'].value_counts())\n",
    "dt_value_counts = dt_value_counts.reset_index()\n",
    "dt_value_counts.columns = ['Survived', 'Counts for Survived']\n",
    "sns.barplot(x='Survived', y='Counts for Survived', data = dt_value_counts)"
   ]
  },
  {
   "cell_type": "code",
   "execution_count": 12,
   "id": "53c0fe8a",
   "metadata": {},
   "outputs": [
    {
     "name": "stdout",
     "output_type": "stream",
     "text": [
      "Из гистограммы видно, что большая часть пассажиров погибла во время кораблекрушения.\n"
     ]
    }
   ],
   "source": [
    "print('Из гистограммы видно, что большая часть пассажиров погибла во время кораблекрушения.')"
   ]
  },
  {
   "cell_type": "code",
   "execution_count": 13,
   "id": "c67a0925",
   "metadata": {},
   "outputs": [
    {
     "name": "stdout",
     "output_type": "stream",
     "text": [
      "Проверим, соотношение спасенных мужчин и женщин, по отношению к погибшим\n"
     ]
    },
    {
     "data": {
      "text/plain": [
       "Text(0.5, 1.0, 'Зависимость выживших от пола')"
      ]
     },
     "execution_count": 13,
     "metadata": {},
     "output_type": "execute_result"
    },
    {
     "data": {
      "image/png": "[encoded data removed]",
      "text/plain": [
       "<Figure size 425.575x360 with 1 Axes>"
      ]
     },
     "metadata": {
      "needs_background": "light"
     },
     "output_type": "display_data"
    }
   ],
   "source": [
    "#dt_survived = pd.DataFrame(dt['Survived']==1)\n",
    "#dt_survived = dt.loc[dt['Survived']==1]['Sex'].value_counts()\n",
    "#print(dt_survived)\n",
    "#dt_survived = dt_survived.reset_index()\n",
    "#dt_survived.columns = ['Survaved Sex', 'Counts for Survaved Sex']\n",
    "#sns.barplot(x='Survaved Sex', y='Counts for Survaved Sex', data = dt_survived)\n",
    "print('Проверим, соотношение спасенных мужчин и женщин, по отношению к погибшим')\n",
    "sns.catplot(x='Sex', data=dt, hue='Survived', kind='count')\n",
    "plt.title(\"Зависимость выживших от пола\")"
   ]
  },
  {
   "cell_type": "code",
   "execution_count": 14,
   "id": "4af06cec",
   "metadata": {},
   "outputs": [
    {
     "name": "stdout",
     "output_type": "stream",
     "text": [
      "Из гистограммы видно, что кол-во выживших женщин было больше, чем мужчин.\n"
     ]
    }
   ],
   "source": [
    "print('Из гистограммы видно, что кол-во выживших женщин было больше, чем мужчин.')"
   ]
  },
  {
   "cell_type": "code",
   "execution_count": 15,
   "id": "5fe9ae97",
   "metadata": {},
   "outputs": [
    {
     "data": {
      "text/plain": [
       "Text(0.5, 1.0, 'Соотношение пассажиров по возрасту')"
      ]
     },
     "execution_count": 15,
     "metadata": {},
     "output_type": "execute_result"
    },
    {
     "data": {
      "image/png": "[encoded data removed]",
      "text/plain": [
       "<Figure size 360x360 with 1 Axes>"
      ]
     },
     "metadata": {
      "needs_background": "light"
     },
     "output_type": "display_data"
    }
   ],
   "source": [
    "#dt_sex_counts = pd.DataFrame(dt['Sex'].value_counts())\n",
    "#dt_sex_counts = dt_sex_counts.reset_index()\n",
    "#dt_sex_counts.columns = ['Sex', 'Counts for Sex']\n",
    "#dt_sumSex = pd.concat([dt_survived, dt_sex_counts], axis=1)\n",
    "#print(dt_sumSex)\n",
    "#dt_sumSex.plot.bar(stacked=True)\n",
    "\n",
    "\n",
    "#Посмотрим соотношение кол-ва пассажиров по возрасту\n",
    "sns.displot(dt['Age'])\n",
    "plt.title(\"Соотношение пассажиров по возрасту\")"
   ]
  },
  {
   "cell_type": "code",
   "execution_count": 16,
   "id": "a76ee682",
   "metadata": {},
   "outputs": [
    {
     "name": "stdout",
     "output_type": "stream",
     "text": [
      "Больше всего было пассажиров от 20 до 40 лет\n",
      "Среднее значение и медиана возраста пассажиров\n",
      "38.36\n",
      "39.0\n"
     ]
    }
   ],
   "source": [
    "print('Больше всего было пассажиров от 20 до 40 лет')\n",
    "\n",
    "#Посчитаем среднее и медиану возраста пассажиров.\n",
    "print('Среднее значение и медиана возраста пассажиров')\n",
    "\n",
    "print(round(dt.Age.mean(),2))\n",
    "print(round(dt.Age.median(),2))"
   ]
  },
  {
   "cell_type": "code",
   "execution_count": 17,
   "id": "e6db3127",
   "metadata": {},
   "outputs": [
    {
     "name": "stdout",
     "output_type": "stream",
     "text": [
      "Посмотрим распределение пассажиров по сумме супруг + братья и сёстры на борту корабля\n"
     ]
    },
    {
     "data": {
      "text/plain": [
       "<AxesSubplot:xlabel='SibSp', ylabel='counts for SibSp'>"
      ]
     },
     "execution_count": 17,
     "metadata": {},
     "output_type": "execute_result"
    },
    {
     "data": {
      "image/png": "[encoded data removed]",
      "text/plain": [
       "<Figure size 1440x360 with 1 Axes>"
      ]
     },
     "metadata": {
      "needs_background": "light"
     },
     "output_type": "display_data"
    }
   ],
   "source": [
    "#Посмотрим распределение пассажиров по сумме 'супруг + братья и сёстры на борту корабля'\n",
    "print('Посмотрим распределение пассажиров по сумме супруг + братья и сёстры на борту корабля')\n",
    "      \n",
    "dt_value_counts = pd.DataFrame(dt['SibSp'].value_counts())\n",
    "dt_value_counts = dt_value_counts.reset_index()\n",
    "dt_value_counts.columns = ['SibSp', 'counts for SibSp']\n",
    "#dt\n",
    "sns.barplot(x='SibSp', y='counts for SibSp',   data = dt_value_counts)"
   ]
  },
  {
   "cell_type": "code",
   "execution_count": 18,
   "id": "0b2c77f3",
   "metadata": {},
   "outputs": [
    {
     "name": "stdout",
     "output_type": "stream",
     "text": [
      "Распределение пассажиров по сумме\n",
      " 'родители + дети на борту'\n"
     ]
    },
    {
     "data": {
      "text/plain": [
       "<AxesSubplot:xlabel='Parch', ylabel='Сounts for Parch'>"
      ]
     },
     "execution_count": 18,
     "metadata": {},
     "output_type": "execute_result"
    },
    {
     "data": {
      "image/png": "[encoded data removed]",
      "text/plain": [
       "<Figure size 1440x360 with 1 Axes>"
      ]
     },
     "metadata": {
      "needs_background": "light"
     },
     "output_type": "display_data"
    }
   ],
   "source": [
    "#Посмотрим распределение пассажиров по сумме\\n 'родители + дети на борту'\n",
    "print(\"Распределение пассажиров по сумме\\n 'родители + дети на борту'\")\n",
    "dt_value_counts = pd.DataFrame(dt['Parch'].value_counts())\n",
    "dt_value_counts = dt_value_counts.reset_index()\n",
    "dt_value_counts.columns = ['Parch', 'Сounts for Parch']\n",
    "#dt\n",
    "sns.barplot(x='Parch', y='Сounts for Parch',   data = dt_value_counts)"
   ]
  },
  {
   "cell_type": "code",
   "execution_count": 19,
   "id": "47bca910",
   "metadata": {},
   "outputs": [
    {
     "name": "stdout",
     "output_type": "stream",
     "text": [
      "Распределение пассажиров по пункту отправления\n"
     ]
    },
    {
     "data": {
      "text/plain": [
       "<AxesSubplot:xlabel='Embarked', ylabel='Сounts for Embarked'>"
      ]
     },
     "execution_count": 19,
     "metadata": {},
     "output_type": "execute_result"
    },
    {
     "data": {
      "image/png": "[encoded data removed]",
      "text/plain": [
       "<Figure size 1440x360 with 1 Axes>"
      ]
     },
     "metadata": {
      "needs_background": "light"
     },
     "output_type": "display_data"
    }
   ],
   "source": [
    "#Посмотрим распределение пассажиров по пункту отправления'\n",
    "print(\"Распределение пассажиров по пункту отправления\")\n",
    "dt_value_counts = pd.DataFrame(dt['Embarked'].value_counts())\n",
    "dt_value_counts = dt_value_counts.reset_index()\n",
    "dt_value_counts.columns = ['Embarked', 'Сounts for Embarked']\n",
    "#dt\n",
    "sns.barplot(x='Embarked', y='Сounts for Embarked',   data = dt_value_counts)"
   ]
  },
  {
   "cell_type": "code",
   "execution_count": 20,
   "id": "57e2d404",
   "metadata": {},
   "outputs": [
    {
     "name": "stdout",
     "output_type": "stream",
     "text": [
      "Большая часть пассажиров отправилась в путешествие из пункта отправления Southampton\n"
     ]
    }
   ],
   "source": [
    "print('Большая часть пассажиров отправилась в путешествие из пункта отправления Southampton')"
   ]
  },
  {
   "cell_type": "code",
   "execution_count": 21,
   "id": "e5077bb5",
   "metadata": {},
   "outputs": [
    {
     "name": "stdout",
     "output_type": "stream",
     "text": [
      "Распределение пассажиров по классу обслуживания\n"
     ]
    },
    {
     "data": {
      "text/plain": [
       "<AxesSubplot:xlabel='Pclass', ylabel='Сounts for Pclass'>"
      ]
     },
     "execution_count": 21,
     "metadata": {},
     "output_type": "execute_result"
    },
    {
     "data": {
      "image/png": "[encoded data removed]",
      "text/plain": [
       "<Figure size 1440x360 with 1 Axes>"
      ]
     },
     "metadata": {
      "needs_background": "light"
     },
     "output_type": "display_data"
    }
   ],
   "source": [
    "#Посмотрим распределение пассажиров по классу обслуживания'\n",
    "print(\"Распределение пассажиров по классу обслуживания\")\n",
    "dt_value_counts = pd.DataFrame(dt['Pclass'].value_counts())\n",
    "dt_value_counts = dt_value_counts.reset_index()\n",
    "dt_value_counts.columns = ['Pclass', 'Сounts for Pclass']\n",
    "#dt\n",
    "sns.barplot(x='Pclass', y='Сounts for Pclass',   data = dt_value_counts)"
   ]
  },
  {
   "cell_type": "code",
   "execution_count": 22,
   "id": "74c0aabd",
   "metadata": {},
   "outputs": [
    {
     "name": "stdout",
     "output_type": "stream",
     "text": [
      "Подавляющее большинство пассажиров находилось в каютах третьего класса\n"
     ]
    }
   ],
   "source": [
    "print('Подавляющее большинство пассажиров находилось в каютах третьего класса')"
   ]
  },
  {
   "cell_type": "code",
   "execution_count": 23,
   "id": "fee96a3f",
   "metadata": {},
   "outputs": [
    {
     "data": {
      "text/plain": [
       "Text(0.5, 1.0, 'Распределение пассажиров по полу в каждом классе')"
      ]
     },
     "execution_count": 23,
     "metadata": {},
     "output_type": "execute_result"
    },
    {
     "data": {
      "image/png": "[encoded data removed]",
      "text/plain": [
       "<Figure size 452.275x360 with 1 Axes>"
      ]
     },
     "metadata": {
      "needs_background": "light"
     },
     "output_type": "display_data"
    }
   ],
   "source": [
    "sns.catplot(x='Pclass', data=dt, hue='Sex', kind='count')\n",
    "plt.title(\"Распределение пассажиров по полу в каждом классе\")"
   ]
  },
  {
   "cell_type": "code",
   "execution_count": 24,
   "id": "ebdd0496",
   "metadata": {},
   "outputs": [
    {
     "name": "stdout",
     "output_type": "stream",
     "text": [
      "Как видно из графика, в третьем классе преимущественно ехали мужчины\n"
     ]
    }
   ],
   "source": [
    "print('Как видно из графика, в третьем классе преимущественно ехали мужчины')"
   ]
  },
  {
   "cell_type": "code",
   "execution_count": 25,
   "id": "b0cb8919",
   "metadata": {},
   "outputs": [
    {
     "name": "stdout",
     "output_type": "stream",
     "text": [
      "Процент пассажиров 1-го класса  30.35 %\n",
      "Процент пассажиров 2-го класса  28.67 %\n",
      "Процент пассажиров 3-го класса  40.97 %\n"
     ]
    }
   ],
   "source": [
    "#Посчитаем процент пассажиров по классам среди всех пассажиров.\n",
    "#Ответ приведен в процентах.\n",
    "firstClassCount = dt.loc[dt['Pclass']==1].count()\n",
    "SecondClassCount= dt.loc[dt['Pclass']==2].count()\n",
    "ThirdClassCount= dt.loc[dt['Pclass']==3].count()\n",
    "allCount = dt.count()\n",
    "\n",
    "print('Процент пассажиров 1-го класса ', round(firstClassCount['Pclass']/allCount['Pclass']*100,2),'%')\n",
    "print('Процент пассажиров 2-го класса ', round(SecondClassCount['Pclass']/allCount['Pclass']*100,2),'%')\n",
    "print('Процент пассажиров 3-го класса ', round(ThirdClassCount['Pclass']/allCount['Pclass']*100,2),'%')"
   ]
  },
  {
   "cell_type": "code",
   "execution_count": 26,
   "id": "acaccee6",
   "metadata": {},
   "outputs": [
    {
     "name": "stdout",
     "output_type": "stream",
     "text": [
      "Из процентного соотношения,так же подтверждается, что большенство пассажиров ехало в третим классом.\n"
     ]
    }
   ],
   "source": [
    "print('Из процентного соотношения,так же подтверждается, что большенство пассажиров ехало в третим классом.')"
   ]
  },
  {
   "cell_type": "code",
   "execution_count": 27,
   "id": "6c4883ad",
   "metadata": {},
   "outputs": [
    {
     "name": "stdout",
     "output_type": "stream",
     "text": [
      "Определим соотношение выживших по полу и классу\n"
     ]
    },
    {
     "data": {
      "text/plain": [
       "<seaborn.axisgrid.FacetGrid at 0x24b4656d850>"
      ]
     },
     "execution_count": 27,
     "metadata": {},
     "output_type": "execute_result"
    },
    {
     "data": {
      "image/png": "[encoded data removed]",
      "text/plain": [
       "<Figure size 1080x360 with 3 Axes>"
      ]
     },
     "metadata": {
      "needs_background": "light"
     },
     "output_type": "display_data"
    }
   ],
   "source": [
    "#Определим соотношение выживших по полу и классу\n",
    "print('Определим соотношение выживших по полу и классу')\n",
    "sns.catplot(x='Sex', y='Survived', col='Pclass', data=dt, kind='bar')"
   ]
  },
  {
   "cell_type": "code",
   "execution_count": 28,
   "id": "d274200b",
   "metadata": {},
   "outputs": [
    {
     "name": "stdout",
     "output_type": "stream",
     "text": [
      "Данные показывают, что большенство выживших было женщин преимущественно первого и второго класса, а из мужчин - путешествующие первым классом.\n"
     ]
    }
   ],
   "source": [
    "print('Данные показывают, что большенство выживших было женщин преимущественно первого и второго класса, а из мужчин - путешествующие первым классом.')"
   ]
  },
  {
   "cell_type": "code",
   "execution_count": 29,
   "id": "3f316283",
   "metadata": {},
   "outputs": [
    {
     "data": {
      "text/plain": [
       "<seaborn.axisgrid.FacetGrid at 0x24b44585070>"
      ]
     },
     "execution_count": 29,
     "metadata": {},
     "output_type": "execute_result"
    },
    {
     "data": {
      "image/png": "[encoded data removed]",
      "text/plain": [
       "<Figure size 1080x360 with 3 Axes>"
      ]
     },
     "metadata": {
      "needs_background": "light"
     },
     "output_type": "display_data"
    }
   ],
   "source": [
    "#Посмотрим кол-во выжить у пассажиров из различных портов отправления.\n",
    "sns.catplot(x='Embarked', col='Pclass', data=dt, kind='count')"
   ]
  },
  {
   "cell_type": "code",
   "execution_count": 30,
   "id": "40f3c28e",
   "metadata": {},
   "outputs": [
    {
     "name": "stdout",
     "output_type": "stream",
     "text": [
      "По каждому из классов обслуживания больше всего садилось в порту Southampton\n"
     ]
    }
   ],
   "source": [
    "print('По каждому из классов обслуживания больше всего садилось в порту Southampton')"
   ]
  },
  {
   "cell_type": "code",
   "execution_count": 31,
   "id": "45d6bce3",
   "metadata": {},
   "outputs": [
    {
     "name": "stdout",
     "output_type": "stream",
     "text": [
      "Определим кол-во выживших взависимости от места посадки\n"
     ]
    },
    {
     "data": {
      "text/plain": [
       "<AxesSubplot:xlabel='Embarked', ylabel='Сounts for Embarked'>"
      ]
     },
     "execution_count": 31,
     "metadata": {},
     "output_type": "execute_result"
    },
    {
     "data": {
      "image/png": "[encoded data removed]",
      "text/plain": [
       "<Figure size 1440x360 with 1 Axes>"
      ]
     },
     "metadata": {
      "needs_background": "light"
     },
     "output_type": "display_data"
    }
   ],
   "source": [
    "print('Определим кол-во выживших взависимости от места посадки')\n",
    "#sns.catplot(x='Embarked', y='Survived', col='Pclass', data=dt, kind='bar')\n",
    "SurvivedByEmb = dt.loc[dt['Survived']==1]\n",
    "SurvivedByEmb = pd.DataFrame(SurvivedByEmb['Embarked'].value_counts())\n",
    "SurvivedByEmb = SurvivedByEmb.reset_index()\n",
    "SurvivedByEmb.columns = ['Embarked', 'Сounts for Embarked']\n",
    "sns.barplot(x='Embarked', y='Сounts for Embarked',   data = SurvivedByEmb)\n",
    "#dt_value_counts = pd.DataFrame(dt['Pclass'].value_counts())\n",
    "#dt_value_counts = dt_value_counts.reset_index()\n",
    "#dt_value_counts.columns = ['Pclass', 'Сounts for Pclass']\n",
    "#sns.barplot(x='Pclass', y='Сounts for Pclass',   data = dt_value_counts)\n"
   ]
  },
  {
   "cell_type": "code",
   "execution_count": 32,
   "id": "14ce008c",
   "metadata": {},
   "outputs": [
    {
     "name": "stdout",
     "output_type": "stream",
     "text": [
      "График показывает, что больше выжило людей, которые садились в порту Southampton\n"
     ]
    }
   ],
   "source": [
    "print('График показывает, что больше выжило людей, которые садились в порту Southampton')"
   ]
  },
  {
   "cell_type": "code",
   "execution_count": 33,
   "id": "229b9e03",
   "metadata": {},
   "outputs": [
    {
     "name": "stdout",
     "output_type": "stream",
     "text": [
      "   S_class  Southampton  C_class  Cherbourg  Q_class  Queenstown\n",
      "0        1         5818        1       8860        1        2273\n",
      "1        2         9126        2       4847        2         532\n",
      "2        3         7068        3       2396        3         319\n"
     ]
    },
    {
     "data": {
      "text/plain": [
       "<AxesSubplot:>"
      ]
     },
     "execution_count": 33,
     "metadata": {},
     "output_type": "execute_result"
    },
    {
     "data": {
      "image/png": "[encoded data removed]",
      "text/plain": [
       "<Figure size 1440x360 with 1 Axes>"
      ]
     },
     "metadata": {
      "needs_background": "light"
     },
     "output_type": "display_data"
    }
   ],
   "source": [
    "dtSur = dt.loc[dt['Survived']==1]\n",
    "S_classes = dtSur.loc[dt['Embarked']=='S']\n",
    "S_classes = pd.DataFrame(S_classes['Pclass'].value_counts())\n",
    "S_classes = S_classes.reset_index()\n",
    "S_classes.columns = ['S_class', 'Southampton']\n",
    "S_classes = S_classes.sort_values(by='S_class')\n",
    "S_classes = S_classes.reset_index()\n",
    "#print(S_classes)\n",
    "S_classes\n",
    "C_classes = dtSur.loc[dt['Embarked']=='C']\n",
    "C_classes = pd.DataFrame(C_classes['Pclass'].value_counts())\n",
    "C_classes = C_classes.reset_index()\n",
    "C_classes.columns = ['C_class', 'Cherbourg']\n",
    "Q_classes = dtSur.loc[dt['Embarked']=='Q']\n",
    "Q_classes = pd.DataFrame(Q_classes['Pclass'].value_counts())\n",
    "Q_classes = Q_classes.reset_index()\n",
    "Q_classes.columns = ['Q_class', 'Queenstown']\n",
    "SumEmbClass = pd.concat([S_classes, C_classes, Q_classes], axis=1) \n",
    "#dt = df_train.drop(columns=['Ticket', 'Cabin', 'Fare'])\n",
    "SumEmbClass = SumEmbClass.drop(columns=['index'])\n",
    "print(SumEmbClass)\n",
    "SumEmbClass = SumEmbClass.transpose()\n",
    "SumEmbClass = SumEmbClass.drop(labels=['S_class', 'C_class', 'Q_class'], axis=0)\n",
    "SumEmbClass = SumEmbClass.rename(columns={0:\"Class 1\", 1:\"Class 2\", 2:\"Class 3\"})\n",
    "\n",
    "SumEmbClass.plot(kind=\"bar\", stacked=True)"
   ]
  },
  {
   "cell_type": "code",
   "execution_count": 34,
   "id": "813eeb01",
   "metadata": {},
   "outputs": [
    {
     "name": "stdout",
     "output_type": "stream",
     "text": [
      "Данная гистограмма подтверждает, что больше выжило людей, которые садились в порту Southampton, при этом, большая часть выживших были пассажирами второго класса\n"
     ]
    }
   ],
   "source": [
    "print('Данная гистограмма подтверждает, что больше выжило людей, которые садились в порту Southampton, при этом, большая часть выживших были пассажирами второго класса')"
   ]
  },
  {
   "cell_type": "code",
   "execution_count": 35,
   "id": "72abf1fa",
   "metadata": {},
   "outputs": [
    {
     "name": "stdout",
     "output_type": "stream",
     "text": [
      "Проверим зависимость распределения выживших пассажиров по полу и возрасту\n"
     ]
    },
    {
     "data": {
      "text/plain": [
       "<AxesSubplot:title={'center':'Age'}, xlabel='[Sex]'>"
      ]
     },
     "execution_count": 35,
     "metadata": {},
     "output_type": "execute_result"
    },
    {
     "data": {
      "image/png": "[encoded data removed]",
      "text/plain": [
       "<Figure size 1440x360 with 1 Axes>"
      ]
     },
     "metadata": {
      "needs_background": "light"
     },
     "output_type": "display_data"
    }
   ],
   "source": [
    "#Проверим зависимость распределения выживших пассажиров по полу и возрасту\n",
    "print('Проверим зависимость распределения выживших пассажиров по полу и возрасту')\n",
    "SurSexAge = dtSur.drop(columns=['Survived', 'Pclass', 'Name', 'SibSp', 'Parch', 'Embarked'])\n",
    "SurSexAge.boxplot(by=\"Sex\")"
   ]
  },
  {
   "cell_type": "code",
   "execution_count": 36,
   "id": "dab27635",
   "metadata": {},
   "outputs": [
    {
     "name": "stdout",
     "output_type": "stream",
     "text": [
      "Данная диаграмма показывет, что средний возраст выживших мужчины порядка 40 лет, а женщин - 45 лет.\n"
     ]
    }
   ],
   "source": [
    "print('Данная диаграмма показывет, что средний возраст выживших мужчины порядка 40 лет, а женщин - 45 лет.')"
   ]
  },
  {
   "cell_type": "code",
   "execution_count": 37,
   "id": "e3d2333d",
   "metadata": {},
   "outputs": [
    {
     "data": {
      "text/plain": [
       "Text(0.5, 1.0, 'Зависимость выживаемости от наличия родных')"
      ]
     },
     "execution_count": 37,
     "metadata": {},
     "output_type": "execute_result"
    },
    {
     "data": {
      "image/png": "[encoded data removed]",
      "text/plain": [
       "<Figure size 425.575x360 with 1 Axes>"
      ]
     },
     "metadata": {
      "needs_background": "light"
     },
     "output_type": "display_data"
    }
   ],
   "source": [
    "sns.catplot(x ='SibSp',  data=dt, hue='Survived', kind='count')\n",
    "plt.title(\"Зависимость выживаемости от наличия родных\")"
   ]
  },
  {
   "cell_type": "code",
   "execution_count": 38,
   "id": "91e26f3d",
   "metadata": {},
   "outputs": [
    {
     "data": {
      "text/plain": [
       "Text(0.5, 1.0, 'Зависимость выживания от наличия родителей, детей')"
      ]
     },
     "execution_count": 38,
     "metadata": {},
     "output_type": "execute_result"
    },
    {
     "data": {
      "image/png": "[encoded data removed]",
      "text/plain": [
       "<Figure size 425.575x360 with 1 Axes>"
      ]
     },
     "metadata": {
      "needs_background": "light"
     },
     "output_type": "display_data"
    }
   ],
   "source": [
    "sns.catplot(x= 'Parch', data=dt, hue='Survived', kind='count')\n",
    "plt.title(\"Зависимость выживания от наличия родителей, детей\")"
   ]
  }
 ],
 "metadata": {
  "kernelspec": {
   "display_name": "Python 3 (ipykernel)",
   "language": "python",
   "name": "python3"
  },
  "language_info": {
   "codemirror_mode": {
    "name": "ipython",
    "version": 3
   },
   "file_extension": ".py",
   "mimetype": "text/x-python",
   "name": "python",
   "nbconvert_exporter": "python",
   "pygments_lexer": "ipython3",
   "version": "3.9.7"
  }
 },
 "nbformat": 4,
 "nbformat_minor": 5
}
